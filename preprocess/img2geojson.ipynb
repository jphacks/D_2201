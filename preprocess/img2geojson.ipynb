{
  "cells": [
    {
      "cell_type": "code",
      "source": [
        "!wget https://jphacks.github.io/D_2201/data/Osaka-CopernicusSentineldata2022.jpg"
      ],
      "metadata": {
        "colab": {
          "base_uri": "https://localhost:8080/"
        },
        "id": "s4Zd_u9ryYr-",
        "outputId": "63d4c677-78c8-424e-d016-115539904394"
      },
      "execution_count": 13,
      "outputs": [
        {
          "output_type": "stream",
          "name": "stdout",
          "text": [
            "--2022-10-17 11:54:54--  https://jphacks.github.io/D_2201/data/Osaka-CopernicusSentineldata2022.jpg\n",
            "Resolving jphacks.github.io (jphacks.github.io)... 185.199.108.153, 185.199.109.153, 185.199.110.153, ...\n",
            "Connecting to jphacks.github.io (jphacks.github.io)|185.199.108.153|:443... connected.\n",
            "HTTP request sent, awaiting response... 200 OK\n",
            "Length: 3734988 (3.6M) [image/jpeg]\n",
            "Saving to: ‘Osaka-CopernicusSentineldata2022.jpg.1’\n",
            "\n",
            "\r          Osaka-Cop   0%[                    ]       0  --.-KB/s               \rOsaka-CopernicusSen 100%[===================>]   3.56M  --.-KB/s    in 0.07s   \n",
            "\n",
            "2022-10-17 11:54:54 (51.0 MB/s) - ‘Osaka-CopernicusSentineldata2022.jpg.1’ saved [3734988/3734988]\n",
            "\n"
          ]
        }
      ]
    },
    {
      "cell_type": "code",
      "execution_count": 14,
      "metadata": {
        "id": "9h1vXRVvQ_PF"
      },
      "outputs": [],
      "source": [
        "import cv2\n",
        "import numpy as np\n",
        "from PIL import Image\n",
        "\n",
        "im = cv2.imread('./Osaka-CopernicusSentineldata2022.jpg')\n",
        "imnp = np.array(Image.open('./Osaka-CopernicusSentineldata2022.jpg'))"
      ]
    },
    {
      "cell_type": "code",
      "execution_count": 15,
      "metadata": {
        "id": "RweiMAQ7Rclp",
        "colab": {
          "base_uri": "https://localhost:8080/"
        },
        "outputId": "9d0e1c25-1099-452f-f0fc-944815056ea2"
      },
      "outputs": [
        {
          "output_type": "execute_result",
          "data": {
            "text/plain": [
              "(4451, 2776, 3)"
            ]
          },
          "metadata": {},
          "execution_count": 15
        }
      ],
      "source": [
        "im.shape"
      ]
    },
    {
      "cell_type": "code",
      "source": [
        "imnp.shape"
      ],
      "metadata": {
        "colab": {
          "base_uri": "https://localhost:8080/"
        },
        "id": "SdYbhOcly8_O",
        "outputId": "e9b091b6-a3fe-4b27-c14a-240cc4859b58"
      },
      "execution_count": 16,
      "outputs": [
        {
          "output_type": "execute_result",
          "data": {
            "text/plain": [
              "(4451, 2776, 3)"
            ]
          },
          "metadata": {},
          "execution_count": 16
        }
      ]
    },
    {
      "cell_type": "code",
      "execution_count": 17,
      "metadata": {
        "id": "d3J1j1dQnY2W"
      },
      "outputs": [],
      "source": [
        "!pip install -q geojson"
      ]
    },
    {
      "cell_type": "code",
      "execution_count": 18,
      "metadata": {
        "id": "2GWE7BC2L6pi"
      },
      "outputs": [],
      "source": [
        "Poly =  [\n",
        "      [\n",
        "        135.4, # 左上\n",
        "        34.8\n",
        "      ],\n",
        "      [\n",
        "        135.7, # 右上\n",
        "        34.8\n",
        "      ],\n",
        "      [\n",
        "        135.7, # 右下\n",
        "        34.4\n",
        "      ],\n",
        "      [\n",
        "        135.4, # 左下\n",
        "        34.4\n",
        "      ],\n",
        "      [\n",
        "        135.4,\n",
        "        34.8\n",
        "      ]\n",
        "]"
      ]
    },
    {
      "cell_type": "code",
      "execution_count": 19,
      "metadata": {
        "id": "Q0ln1WN3kehm"
      },
      "outputs": [],
      "source": [
        "poi = [34.4,34.8,135.4,135.8]"
      ]
    },
    {
      "cell_type": "code",
      "execution_count": 20,
      "metadata": {
        "id": "FXn3nONfrBu-"
      },
      "outputs": [],
      "source": [
        "outfile = \"osaka.geojson\""
      ]
    },
    {
      "cell_type": "code",
      "execution_count": null,
      "metadata": {
        "id": "26LzSGE8kJYV",
        "colab": {
          "base_uri": "https://localhost:8080/"
        },
        "outputId": "9509210c-fcdc-4ef3-b230-56e845577860"
      },
      "outputs": [
        {
          "output_type": "stream",
          "name": "stderr",
          "text": [
            "/usr/local/lib/python3.7/dist-packages/numpy/lib/function_base.py:380: RuntimeWarning: Mean of empty slice.\n",
            "  avg = a.mean(axis)\n",
            "/usr/local/lib/python3.7/dist-packages/numpy/core/_methods.py:189: RuntimeWarning: invalid value encountered in double_scalars\n",
            "  ret = ret.dtype.type(ret / rcount)\n"
          ]
        }
      ],
      "source": [
        "from geojson import Polygon\n",
        "from geojson import Point, Feature, FeatureCollection, dump\n",
        "sepi = 50\n",
        "di = (poi[1]-poi[0])/sepi\n",
        "dpici = im.shape[0]/sepi\n",
        "sepj = 50\n",
        "dj = (poi[3]-poi[2])/sepj\n",
        "dpicj = im.shape[1]/sepj\n",
        "\n",
        "ft_all = []\n",
        "for i in range(sepi):\n",
        "  lat_min = poi[1] - di*(i+1)\n",
        "  lat_max = poi[1] - di*i\n",
        "  for j in range(sepj):\n",
        "    lon_min = poi[2] + dj*j\n",
        "    lon_max = poi[2] + dj*(j+1)\n",
        "    geopoly = Polygon([[(lon_min, lat_min), (lon_min, lat_max), (lon_max, lat_max), (lon_max, lat_min)]])\n",
        "    img1 = imnp[int(dpici*i) : int(dpici*(i+1)), int(dpicj*j) : int(dpici*(i+j))]\n",
        "    prescore = np.average(img1)\n",
        "    if np.isnan(prescore):\n",
        "      prescore = 0\n",
        "    ft = Feature(geometry = geopoly, properties = {'score': prescore})\n",
        "    ft_all.append(ft)\n",
        "ft_colct = FeatureCollection(ft_all)\n",
        "with open(outfile, 'w') as f:\n",
        "    dump(ft_colct, f, separators=(',', ':'))"
      ]
    },
    {
      "cell_type": "code",
      "execution_count": null,
      "metadata": {
        "id": "_iAyY4XRSntW"
      },
      "outputs": [],
      "source": [
        "from PIL import Image, ImageDraw, ImageFont\n",
        "import matplotlib.pyplot as plt\n",
        "plt.figure(figsize=(15, 20))\n",
        "\n",
        "plt.imshow(im)\n",
        "plt.show()"
      ]
    },
    {
      "cell_type": "code",
      "execution_count": null,
      "metadata": {
        "id": "_aFZ7TXJVSef"
      },
      "outputs": [],
      "source": [
        "plt.figure(figsize=(5, 5))\n",
        "img1 = im[4351 : 4451, 2676: 2776,0]\n",
        "plt.imshow(img1)\n",
        "plt.show()"
      ]
    }
  ],
  "metadata": {
    "colab": {
      "collapsed_sections": [],
      "provenance": []
    },
    "kernelspec": {
      "display_name": "Python 3",
      "name": "python3"
    },
    "language_info": {
      "name": "python"
    }
  },
  "nbformat": 4,
  "nbformat_minor": 0
}